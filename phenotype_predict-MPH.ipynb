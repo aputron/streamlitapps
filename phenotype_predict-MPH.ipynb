{
 "cells": [
  {
   "cell_type": "markdown",
   "id": "0e4b8b0a-c0b5-4fd1-9140-cd6ae183d643",
   "metadata": {
    "tags": []
   },
   "source": [
    "# Import libraries"
   ]
  },
  {
   "cell_type": "code",
   "execution_count": 30,
   "id": "b11c34a1-1a61-409c-a72b-8ec31409ed78",
   "metadata": {},
   "outputs": [],
   "source": [
    "from tensorflow import keras\n",
    "import Bio.SeqIO\n",
    "import numpy as np\n",
    "import pandas as pd"
   ]
  },
  {
   "cell_type": "markdown",
   "id": "1336a43a-90c6-4e19-ad7b-14e1da110cac",
   "metadata": {
    "jp-MarkdownHeadingCollapsed": true,
    "tags": []
   },
   "source": [
    "# Define functions"
   ]
  },
  {
   "cell_type": "code",
   "execution_count": 2,
   "id": "a1e1b166-8f49-4dc9-832c-d722db31dfa9",
   "metadata": {},
   "outputs": [],
   "source": [
    "import tensorflow.keras.backend as K\n",
    "\n",
    "def mcc(label_real, label_predicted):\n",
    "    true_pos = K.sum(K.round(K.clip(label_real * label_predicted, 0, 1)))\n",
    "    true_neg = K.sum(K.round(K.clip((1 - label_real) * (1 - label_predicted), 0, 1)))\n",
    "    false_pos = K.sum(K.round(K.clip((1 - label_real) * label_predicted, 0, 1)))\n",
    "    false_neg = K.sum(K.round(K.clip(label_real * (1 - label_predicted), 0, 1)))\n",
    "    number = true_pos*true_neg - false_pos * false_neg\n",
    "    denominator = K.sqrt((true_pos + false_pos) * \n",
    "                        (true_pos + false_neg) * \n",
    "                        (true_neg + false_pos) * \n",
    "                        (true_neg + false_neg))\n",
    "    return number / (denominator + K.epsilon())"
   ]
  },
  {
   "cell_type": "code",
   "execution_count": 3,
   "id": "a43c0822-b25d-4322-8304-97490be93a50",
   "metadata": {},
   "outputs": [],
   "source": [
    "from keras_preprocessing.sequence import pad_sequences\n",
    "from sklearn.preprocessing import LabelEncoder, OneHotEncoder\n",
    "\n",
    "def one_hot_encoding_aa(dataset):\n",
    "    \n",
    "    integer_encoder = LabelEncoder()\n",
    "    one_hot_encoder = OneHotEncoder(categories='auto')\n",
    "    amino_acids = \"ARNDCQEGHILKMFPSTWYV*\"\n",
    "    input_features = []\n",
    "    # fix the encoded categories\n",
    "    ie = integer_encoder.fit_transform(list(amino_acids))\n",
    "    ie = np.array(ie).reshape(-1, 1)\n",
    "    oe = one_hot_encoder.fit_transform(ie)\n",
    "    for sequence in dataset:\n",
    "        if type(sequence) == str:\n",
    "            integer_encoded = integer_encoder.transform(list(sequence))\n",
    "            integer_encoded = np.array(integer_encoded).reshape(-1,1)\n",
    "            one_hot_encoded = one_hot_encoder.transform(integer_encoded)\n",
    "            input_features.append(one_hot_encoded.toarray())\n",
    "            \n",
    "    np.set_printoptions(threshold=40)\n",
    "    input_features = pad_sequences(input_features, padding=\"post\")\n",
    "    input_features = np.stack(input_features)\n",
    "    \n",
    "    return input_features"
   ]
  },
  {
   "cell_type": "code",
   "execution_count": 43,
   "id": "f77a6a95-cbc2-4bd8-a599-3f59587f8d66",
   "metadata": {},
   "outputs": [],
   "source": [
    "from keras_preprocessing.sequence import pad_sequences\n",
    "from sklearn.preprocessing import LabelEncoder, OneHotEncoder\n",
    "\n",
    "def one_hot_encoding(dataset):\n",
    "    \n",
    "    integer_encoder = LabelEncoder()\n",
    "    one_hot_encoder = OneHotEncoder(categories='auto')\n",
    "    input_features = []\n",
    "    for sequence in dataset:\n",
    "        if type(sequence) == str:\n",
    "            integer_encoded = integer_encoder.fit_transform(list(sequence))\n",
    "            integer_encoded = np.array(integer_encoded).reshape(-1,1)\n",
    "            one_hot_encoded = one_hot_encoder.fit_transform(integer_encoded)\n",
    "            input_features.append(one_hot_encoded.toarray())\n",
    "\n",
    "    np.set_printoptions(threshold=40)\n",
    "    input_features = pad_sequences(input_features, padding=\"post\", maxlen=1000)\n",
    "    input_features = np.stack(input_features)\n",
    "    \n",
    "    return input_features"
   ]
  },
  {
   "cell_type": "markdown",
   "id": "7791c974-a8cc-4bf0-9370-b0cda29b3775",
   "metadata": {
    "tags": []
   },
   "source": [
    "# Load models and mutant library"
   ]
  },
  {
   "cell_type": "code",
   "execution_count": 52,
   "metadata": {},
   "outputs": [],
   "source": [
    "candidates = []\n",
    "description = []\n",
    "for record in Bio.SeqIO.parse(\"Insilico/mph_dna.fasta\", \"fasta\"):\n",
    "    candidat = str(record.seq)\n",
    "    candidates.append(candidat)\n",
    "    description.append(record.description)\n",
    "candidate = one_hot_encoding(candidates)"
   ]
  },
  {
   "cell_type": "code",
   "execution_count": 53,
   "metadata": {},
   "outputs": [
    {
     "data": {
      "text/plain": [
       "246793"
      ]
     },
     "execution_count": 53,
     "metadata": {},
     "output_type": "execute_result"
    }
   ],
   "source": [
    "len(description)"
   ]
  },
  {
   "cell_type": "code",
   "execution_count": 7,
   "metadata": {},
   "outputs": [],
   "source": [
    "np.save('encoded/mph_aa_1.npy', candidate) # save\n",
    "#candidate = np.load('CNN_MPH/DmpR_bam/CP_HHH.npy')"
   ]
  },
  {
   "cell_type": "code",
   "execution_count": 26,
   "metadata": {},
   "outputs": [
    {
     "data": {
      "text/plain": [
       "(11, 1000, 4)"
      ]
     },
     "execution_count": 26,
     "metadata": {},
     "output_type": "execute_result"
    }
   ],
   "source": [
    "candidate = np.resize(candidate, (len(candidate), 1000, 4))\n",
    "candidate.shape"
   ]
  },
  {
   "cell_type": "code",
   "execution_count": 46,
   "metadata": {},
   "outputs": [],
   "source": [
    "wt = one_hot_encoding(\"Insilico/MPH.fasta\")"
   ]
  },
  {
   "cell_type": "code",
   "execution_count": 47,
   "metadata": {},
   "outputs": [
    {
     "data": {
      "text/plain": [
       "(1, 1000, 4)"
      ]
     },
     "execution_count": 47,
     "metadata": {},
     "output_type": "execute_result"
    }
   ],
   "source": [
    "wt = np.resize(wt, (1, 1000, 4))\n",
    "wt.shape"
   ]
  },
  {
   "cell_type": "code",
   "execution_count": 8,
   "id": "020910fb-9b91-4ff3-b952-90ab0d0b9e84",
   "metadata": {},
   "outputs": [],
   "source": [
    "# Build the models: simple 1D CNN model\n",
    "# https://colab.research.google.com/drive/17E4h5aAOioh5DiTo7MZg4hpL6Z_0FyWr#scrollTo=eiiwjw4yhX0P\n",
    "\n",
    "from tensorflow.keras.layers import Conv1D, Dense, MaxPooling1D, Flatten\n",
    "from tensorflow.keras.models import Sequential\n",
    "from tensorflow import keras as k\n",
    "\n",
    "def cnn_1d_multiclass():\n",
    "    model = Sequential()\n",
    "    model.add(Conv1D(filters=400, kernel_size=3, input_shape=(1000, 4)))\n",
    "    model.add(MaxPooling1D(pool_size=4))\n",
    "    model.add(Conv1D(filters=400, kernel_size=3, input_shape=(1000, 4)))\n",
    "    model.add(MaxPooling1D(pool_size=4))\n",
    "    # model.add(Flatten())\n",
    "    model.add(Conv1D(filters=400, kernel_size=3, input_shape=(1000, 4)))\n",
    "    model.add(MaxPooling1D(pool_size=4))\n",
    "    #model.add(Conv1D(filters=400, kernel_size=3, input_shape=(train_features.shape[1], 4)))\n",
    "    #model.add(MaxPooling1D(pool_size=4))\n",
    "    model.add(Flatten())\n",
    "    model.add(Dense(16, activation='elu'))\n",
    "    model.add(Dense(1, activation='sigmoid'))\n",
    "\n",
    "    model.compile(loss='binary_crossentropy', optimizer='sgd', metrics=['binary_accuracy'])\n",
    "\n",
    "    #model.compile(loss='categorical_crossentropy', optimizer='adam', metrics=['categorical_accuracy'])\n",
    "\n",
    "    model.summary()\n",
    "    return model"
   ]
  },
  {
   "cell_type": "code",
   "execution_count": 9,
   "metadata": {},
   "outputs": [
    {
     "name": "stdout",
     "output_type": "stream",
     "text": [
      "Model: \"sequential\"\n",
      "_________________________________________________________________\n",
      " Layer (type)                Output Shape              Param #   \n",
      "=================================================================\n",
      " conv1d (Conv1D)             (None, 998, 400)          5200      \n",
      "                                                                 \n",
      " max_pooling1d (MaxPooling1D  (None, 249, 400)         0         \n",
      " )                                                               \n",
      "                                                                 \n",
      " conv1d_1 (Conv1D)           (None, 247, 400)          480400    \n",
      "                                                                 \n",
      " max_pooling1d_1 (MaxPooling  (None, 61, 400)          0         \n",
      " 1D)                                                             \n",
      "                                                                 \n",
      " conv1d_2 (Conv1D)           (None, 59, 400)           480400    \n",
      "                                                                 \n",
      " max_pooling1d_2 (MaxPooling  (None, 14, 400)          0         \n",
      " 1D)                                                             \n",
      "                                                                 \n",
      " flatten (Flatten)           (None, 5600)              0         \n",
      "                                                                 \n",
      " dense (Dense)               (None, 16)                89616     \n",
      "                                                                 \n",
      " dense_1 (Dense)             (None, 1)                 17        \n",
      "                                                                 \n",
      "=================================================================\n",
      "Total params: 1,055,633\n",
      "Trainable params: 1,055,633\n",
      "Non-trainable params: 0\n",
      "_________________________________________________________________\n"
     ]
    }
   ],
   "source": [
    "model = cnn_1d_multiclass()"
   ]
  },
  {
   "cell_type": "code",
   "execution_count": 33,
   "id": "8a04c1b9-5a69-46f7-a89c-3fe60d53b47d",
   "metadata": {},
   "outputs": [],
   "source": [
    "dependencies = {\n",
    "    'mcc': mcc\n",
    "}\n",
    "\n",
    "import tensorflow as tf\n",
    "tf.debugging.set_log_device_placement(True)\n",
    "\n",
    "# try:\n",
    "#   # Specify an invalid GPU device\n",
    "#   with tf.device('/device:GPU:1'):\n",
    "#         cp_model = model.load_weights('CNN_MPH/weights/manual_cp_HHHLL_240102_4.h5')\n",
    "# except RuntimeError as e:\n",
    "#     print(e)\n",
    "\n",
    "epn_model = keras.models.load_model('CNN_MPH/weights/manual_epn_HHHLLL_.h5', compile=False)\n",
    "#bkg_model = keras.models.load_model('CNN_aa/trained_models/mcc_BC_opt_aaprop_bkg_v0.2.h5', compile=False)"
   ]
  },
  {
   "cell_type": "markdown",
   "id": "50c3b44f-7b75-47af-b145-40aec8029a61",
   "metadata": {
    "tags": []
   },
   "source": [
    "# Predict samples"
   ]
  },
  {
   "cell_type": "code",
   "execution_count": 48,
   "metadata": {},
   "outputs": [
    {
     "name": "stdout",
     "output_type": "stream",
     "text": [
      "1/1 [==============================] - 3s 3s/step\n"
     ]
    }
   ],
   "source": [
    "import tensorflow as tf\n",
    "tf.debugging.set_log_device_placement(True)\n",
    "\n",
    "try:\n",
    "  # Specify an invalid GPU device\n",
    "  with tf.device('/device:GPU:2'):\n",
    "        wt_bkg = epn_model.predict(wt)\n",
    "except RuntimeError as e:\n",
    "    print(e)"
   ]
  },
  {
   "cell_type": "code",
   "execution_count": 49,
   "metadata": {},
   "outputs": [
    {
     "data": {
      "text/plain": [
       "array([[0.3529437]], dtype=float32)"
      ]
     },
     "execution_count": 49,
     "metadata": {},
     "output_type": "execute_result"
    }
   ],
   "source": [
    "wt_bkg"
   ]
  },
  {
   "cell_type": "code",
   "execution_count": 15,
   "metadata": {},
   "outputs": [
    {
     "name": "stdout",
     "output_type": "stream",
     "text": [
      "[[0.27269903]]\n"
     ]
    }
   ],
   "source": [
    "print(wt_bkg)"
   ]
  },
  {
   "cell_type": "code",
   "execution_count": 54,
   "metadata": {},
   "outputs": [
    {
     "name": "stdout",
     "output_type": "stream",
     "text": [
      "7713/7713 [==============================] - 39s 5ms/step\n"
     ]
    }
   ],
   "source": [
    "import tensorflow as tf\n",
    "tf.debugging.set_log_device_placement(True)\n",
    "\n",
    "try:\n",
    "  # Specify an invalid GPU device\n",
    "    with tf.device('/device:GPU:0'):\n",
    "        epn_prediction = epn_model.predict(candidate)\n",
    "except RuntimeError as e:\n",
    "    print(e)"
   ]
  },
  {
   "cell_type": "code",
   "execution_count": 51,
   "metadata": {},
   "outputs": [
    {
     "data": {
      "text/plain": [
       "array([[0.07413818],\n",
       "       [0.05017554],\n",
       "       [0.05340827],\n",
       "       [0.0838486 ],\n",
       "       [0.07206739],\n",
       "       [0.06336418],\n",
       "       [0.06570514],\n",
       "       [0.06214825],\n",
       "       [0.05586591],\n",
       "       [0.04945847],\n",
       "       [0.05253494]], dtype=float32)"
      ]
     },
     "execution_count": 51,
     "metadata": {},
     "output_type": "execute_result"
    }
   ],
   "source": [
    "epn_prediction"
   ]
  },
  {
   "cell_type": "code",
   "execution_count": null,
   "id": "607b62cb-9540-433a-94c2-356639818a59",
   "metadata": {
    "scrolled": true
   },
   "outputs": [],
   "source": [
    "#signal_prediction = signal_model.predict(candidates)#.flatten().tolist()\n",
    "\n",
    "#cp_prediction = background_model.predict(candidate)#.flatten().tolist()seq"
   ]
  },
  {
   "cell_type": "code",
   "execution_count": 28,
   "metadata": {
    "scrolled": true
   },
   "outputs": [
    {
     "data": {
      "text/plain": [
       "array([[0.60740167],\n",
       "       [0.38283113],\n",
       "       [0.09940393],\n",
       "       [0.5451945 ],\n",
       "       [0.20894882],\n",
       "       [0.64754343],\n",
       "       [0.10491136],\n",
       "       [0.19242334],\n",
       "       [0.55850965],\n",
       "       [0.09068023],\n",
       "       [0.9559227 ]], dtype=float32)"
      ]
     },
     "execution_count": 28,
     "metadata": {},
     "output_type": "execute_result"
    }
   ],
   "source": [
    "epn_prediction"
   ]
  },
  {
   "cell_type": "code",
   "execution_count": 29,
   "metadata": {},
   "outputs": [
    {
     "data": {
      "text/plain": [
       "['MPH_insilico_mutant D47H [0.99999917]',\n",
       " 'MPH_insilico_mutant A12S [0.99999905]',\n",
       " 'MPH_insilico_mutant N198D [0.99999905]',\n",
       " 'MPH_insilico_mutant A108V [0.9999987]',\n",
       " 'MPH_insilico_mutant G302A [0.99999857]',\n",
       " 'MPH_insilico_mutant N177H [0.99999845]',\n",
       " 'MPH_insilico_mutant A84V [0.99999845]',\n",
       " 'MPH_insilico_mutant H145D [0.9999982]',\n",
       " 'MPH_insilico_mutant Q19E [0.9999981]',\n",
       " 'MPH_insilico_mutant V321L [0.999998]',\n",
       " 'MPH_insilico_mutant K271I [0.99999785]']"
      ]
     },
     "execution_count": 29,
     "metadata": {},
     "output_type": "execute_result"
    }
   ],
   "source": [
    "description"
   ]
  },
  {
   "cell_type": "code",
   "execution_count": 56,
   "metadata": {},
   "outputs": [],
   "source": [
    "epn_predi = []\n",
    "#sig_predi = []\n",
    "for i in range(len(epn_prediction)):\n",
    "    epn_predi.append(epn_prediction[i])\n",
    " #   sig_predi.append(signal_prediction[i])\n",
    "epn_pred = pd.DataFrame(epn_predi, columns=[\"EPN\"])#, index=description)\n",
    "#sig_pred = pd.DataFrame(sig_predi, columns=[\"Signal\"])#, index=description)\n",
    "#bkg_pred"
   ]
  },
  {
   "cell_type": "code",
   "execution_count": 57,
   "metadata": {},
   "outputs": [],
   "source": [
    "epn_pred = epn_pred.sort_values([\"EPN\"], ascending=False)"
   ]
  },
  {
   "cell_type": "code",
   "execution_count": 58,
   "metadata": {},
   "outputs": [
    {
     "data": {
      "text/html": [
       "<div>\n",
       "<style scoped>\n",
       "    .dataframe tbody tr th:only-of-type {\n",
       "        vertical-align: middle;\n",
       "    }\n",
       "\n",
       "    .dataframe tbody tr th {\n",
       "        vertical-align: top;\n",
       "    }\n",
       "\n",
       "    .dataframe thead th {\n",
       "        text-align: right;\n",
       "    }\n",
       "</style>\n",
       "<table border=\"1\" class=\"dataframe\">\n",
       "  <thead>\n",
       "    <tr style=\"text-align: right;\">\n",
       "      <th></th>\n",
       "      <th>EPN</th>\n",
       "    </tr>\n",
       "  </thead>\n",
       "  <tbody>\n",
       "    <tr>\n",
       "      <th>56089</th>\n",
       "      <td>0.372745</td>\n",
       "    </tr>\n",
       "    <tr>\n",
       "      <th>44605</th>\n",
       "      <td>0.349462</td>\n",
       "    </tr>\n",
       "    <tr>\n",
       "      <th>103303</th>\n",
       "      <td>0.339564</td>\n",
       "    </tr>\n",
       "    <tr>\n",
       "      <th>73271</th>\n",
       "      <td>0.337265</td>\n",
       "    </tr>\n",
       "    <tr>\n",
       "      <th>136059</th>\n",
       "      <td>0.335145</td>\n",
       "    </tr>\n",
       "    <tr>\n",
       "      <th>...</th>\n",
       "      <td>...</td>\n",
       "    </tr>\n",
       "    <tr>\n",
       "      <th>131159</th>\n",
       "      <td>0.018653</td>\n",
       "    </tr>\n",
       "    <tr>\n",
       "      <th>79501</th>\n",
       "      <td>0.018055</td>\n",
       "    </tr>\n",
       "    <tr>\n",
       "      <th>126032</th>\n",
       "      <td>0.017840</td>\n",
       "    </tr>\n",
       "    <tr>\n",
       "      <th>110841</th>\n",
       "      <td>0.017225</td>\n",
       "    </tr>\n",
       "    <tr>\n",
       "      <th>17122</th>\n",
       "      <td>0.015601</td>\n",
       "    </tr>\n",
       "  </tbody>\n",
       "</table>\n",
       "<p>246793 rows × 1 columns</p>\n",
       "</div>"
      ],
      "text/plain": [
       "             EPN\n",
       "56089   0.372745\n",
       "44605   0.349462\n",
       "103303  0.339564\n",
       "73271   0.337265\n",
       "136059  0.335145\n",
       "...          ...\n",
       "131159  0.018653\n",
       "79501   0.018055\n",
       "126032  0.017840\n",
       "110841  0.017225\n",
       "17122   0.015601\n",
       "\n",
       "[246793 rows x 1 columns]"
      ]
     },
     "execution_count": 58,
     "metadata": {},
     "output_type": "execute_result"
    }
   ],
   "source": [
    "epn_pred"
   ]
  },
  {
   "cell_type": "code",
   "execution_count": 59,
   "metadata": {},
   "outputs": [],
   "source": [
    "samples=[]\n",
    "for index, row in epn_pred.iterrows():\n",
    "    samples.append(index)"
   ]
  },
  {
   "cell_type": "code",
   "execution_count": 60,
   "metadata": {},
   "outputs": [],
   "source": [
    "sample = samples[:11]\n",
    "des = []\n",
    "epn = []\n",
    "for i in sample:\n",
    "    des.append(description[i])\n",
    "    #print(candidates[i])\n",
    "    epn.append(epn_prediction[i])"
   ]
  },
  {
   "cell_type": "code",
   "execution_count": 61,
   "metadata": {},
   "outputs": [
    {
     "data": {
      "text/plain": [
       "['MPH_insilico_mutant Q132L',\n",
       " 'MPH_insilico_mutant T233S',\n",
       " 'MPH_insilico_mutant L53R',\n",
       " 'MPH_insilico_mutant A78T',\n",
       " 'MPH_insilico_mutant A156T',\n",
       " 'MPH_insilico_mutant T213S',\n",
       " 'MPH_insilico_mutant P71S',\n",
       " 'MPH_insilico_mutant L266P',\n",
       " 'MPH_insilico_mutant L266P',\n",
       " 'MPH_insilico_mutant V133A',\n",
       " 'MPH_insilico_mutant R277H']"
      ]
     },
     "execution_count": 61,
     "metadata": {},
     "output_type": "execute_result"
    }
   ],
   "source": [
    "des"
   ]
  },
  {
   "cell_type": "code",
   "execution_count": 23,
   "metadata": {},
   "outputs": [
    {
     "data": {
      "text/plain": [
       "11"
      ]
     },
     "execution_count": 23,
     "metadata": {},
     "output_type": "execute_result"
    }
   ],
   "source": [
    "from Bio.SeqRecord import SeqRecord\n",
    "from Bio.Seq import Seq\n",
    "\n",
    "fasta_dna = []\n",
    "fasta_aa = []\n",
    "for i in sample:\n",
    "    epn = epn_prediction[i]\n",
    "    #bkg = bkg_predi[i]\n",
    "    dna_read = SeqRecord(Seq(candidates[i]), id=description[i], description=f\"{epn}\")\n",
    "    fasta_dna.append(dna_read)\n",
    "Bio.SeqIO.write(fasta_dna, \"CNN_MPH/candidates_epn_1.fasta\", \"fasta\")"
   ]
  },
  {
   "cell_type": "code",
   "execution_count": 32,
   "id": "1fffead2-5be7-4915-bac7-d36b1c225283",
   "metadata": {},
   "outputs": [],
   "source": [
    "cp_predi = []\n",
    "#sig_predi = []\n",
    "for i in range(len(cp_prediction)):\n",
    "    cp_predi.append(cp_prediction[i])\n",
    " #   sig_predi.append(signal_prediction[i])\n",
    "cp_pred = pd.DataFrame(cp_predi, columns=[\"CP\"])#, index=description)\n",
    "#sig_pred = pd.DataFrame(sig_predi, columns=[\"Signal\"])#, index=description)\n",
    "#bkg_pred"
   ]
  },
  {
   "cell_type": "code",
   "execution_count": 33,
   "metadata": {},
   "outputs": [],
   "source": [
    "cp_pred = cp_pred.sort_values([\"CP\"], ascending=False)"
   ]
  },
  {
   "cell_type": "code",
   "execution_count": 34,
   "metadata": {},
   "outputs": [
    {
     "data": {
      "text/html": [
       "<div>\n",
       "<style scoped>\n",
       "    .dataframe tbody tr th:only-of-type {\n",
       "        vertical-align: middle;\n",
       "    }\n",
       "\n",
       "    .dataframe tbody tr th {\n",
       "        vertical-align: top;\n",
       "    }\n",
       "\n",
       "    .dataframe thead th {\n",
       "        text-align: right;\n",
       "    }\n",
       "</style>\n",
       "<table border=\"1\" class=\"dataframe\">\n",
       "  <thead>\n",
       "    <tr style=\"text-align: right;\">\n",
       "      <th></th>\n",
       "      <th>CP</th>\n",
       "    </tr>\n",
       "  </thead>\n",
       "  <tbody>\n",
       "    <tr>\n",
       "      <th>33972</th>\n",
       "      <td>9.999992e-01</td>\n",
       "    </tr>\n",
       "    <tr>\n",
       "      <th>124168</th>\n",
       "      <td>9.999990e-01</td>\n",
       "    </tr>\n",
       "    <tr>\n",
       "      <th>93550</th>\n",
       "      <td>9.999990e-01</td>\n",
       "    </tr>\n",
       "    <tr>\n",
       "      <th>120466</th>\n",
       "      <td>9.999987e-01</td>\n",
       "    </tr>\n",
       "    <tr>\n",
       "      <th>149683</th>\n",
       "      <td>9.999986e-01</td>\n",
       "    </tr>\n",
       "    <tr>\n",
       "      <th>...</th>\n",
       "      <td>...</td>\n",
       "    </tr>\n",
       "    <tr>\n",
       "      <th>131408</th>\n",
       "      <td>7.474927e-08</td>\n",
       "    </tr>\n",
       "    <tr>\n",
       "      <th>85481</th>\n",
       "      <td>6.737775e-08</td>\n",
       "    </tr>\n",
       "    <tr>\n",
       "      <th>202850</th>\n",
       "      <td>5.022250e-08</td>\n",
       "    </tr>\n",
       "    <tr>\n",
       "      <th>110996</th>\n",
       "      <td>2.703679e-08</td>\n",
       "    </tr>\n",
       "    <tr>\n",
       "      <th>238571</th>\n",
       "      <td>1.036123e-08</td>\n",
       "    </tr>\n",
       "  </tbody>\n",
       "</table>\n",
       "<p>246793 rows × 1 columns</p>\n",
       "</div>"
      ],
      "text/plain": [
       "                  CP\n",
       "33972   9.999992e-01\n",
       "124168  9.999990e-01\n",
       "93550   9.999990e-01\n",
       "120466  9.999987e-01\n",
       "149683  9.999986e-01\n",
       "...              ...\n",
       "131408  7.474927e-08\n",
       "85481   6.737775e-08\n",
       "202850  5.022250e-08\n",
       "110996  2.703679e-08\n",
       "238571  1.036123e-08\n",
       "\n",
       "[246793 rows x 1 columns]"
      ]
     },
     "execution_count": 34,
     "metadata": {},
     "output_type": "execute_result"
    }
   ],
   "source": [
    "cp_pred"
   ]
  },
  {
   "cell_type": "code",
   "execution_count": 35,
   "metadata": {},
   "outputs": [],
   "source": [
    "samples=[]\n",
    "for index, row in cp_pred.iterrows():\n",
    "    samples.append(index)"
   ]
  },
  {
   "cell_type": "code",
   "execution_count": 42,
   "metadata": {},
   "outputs": [],
   "source": [
    "sample = samples[:11]"
   ]
  },
  {
   "cell_type": "code",
   "execution_count": 43,
   "metadata": {},
   "outputs": [
    {
     "data": {
      "text/plain": [
       "[33972,\n",
       " 124168,\n",
       " 93550,\n",
       " 120466,\n",
       " 149683,\n",
       " 108364,\n",
       " 112773,\n",
       " 229947,\n",
       " 36922,\n",
       " 192165,\n",
       " 86592]"
      ]
     },
     "execution_count": 43,
     "metadata": {},
     "output_type": "execute_result"
    }
   ],
   "source": [
    "sample"
   ]
  },
  {
   "cell_type": "code",
   "execution_count": 44,
   "metadata": {},
   "outputs": [],
   "source": [
    "des = []\n",
    "cp = []\n",
    "for i in sample:\n",
    "    des.append(description[i])\n",
    "    #print(candidates[i])\n",
    "    cp.append(cp_prediction[i])"
   ]
  },
  {
   "cell_type": "code",
   "execution_count": 45,
   "metadata": {},
   "outputs": [
    {
     "data": {
      "text/plain": [
       "[array([0.99999917], dtype=float32),\n",
       " array([0.99999905], dtype=float32),\n",
       " array([0.99999905], dtype=float32),\n",
       " array([0.9999987], dtype=float32),\n",
       " array([0.99999857], dtype=float32),\n",
       " array([0.99999845], dtype=float32),\n",
       " array([0.99999845], dtype=float32),\n",
       " array([0.9999982], dtype=float32),\n",
       " array([0.9999981], dtype=float32),\n",
       " array([0.999998], dtype=float32),\n",
       " array([0.99999785], dtype=float32)]"
      ]
     },
     "execution_count": 45,
     "metadata": {},
     "output_type": "execute_result"
    }
   ],
   "source": [
    "cp"
   ]
  },
  {
   "cell_type": "code",
   "execution_count": 46,
   "metadata": {},
   "outputs": [
    {
     "data": {
      "text/plain": [
       "['MPH_insilico_mutant D47H',\n",
       " 'MPH_insilico_mutant A12S',\n",
       " 'MPH_insilico_mutant N198D',\n",
       " 'MPH_insilico_mutant A108V',\n",
       " 'MPH_insilico_mutant G302A',\n",
       " 'MPH_insilico_mutant N177H',\n",
       " 'MPH_insilico_mutant A84V',\n",
       " 'MPH_insilico_mutant H145D',\n",
       " 'MPH_insilico_mutant Q19E',\n",
       " 'MPH_insilico_mutant V321L',\n",
       " 'MPH_insilico_mutant K271I']"
      ]
     },
     "execution_count": 46,
     "metadata": {},
     "output_type": "execute_result"
    }
   ],
   "source": [
    "des"
   ]
  },
  {
   "cell_type": "code",
   "execution_count": 47,
   "metadata": {},
   "outputs": [
    {
     "data": {
      "text/plain": [
       "11"
      ]
     },
     "execution_count": 47,
     "metadata": {},
     "output_type": "execute_result"
    }
   ],
   "source": [
    "from Bio.SeqRecord import SeqRecord\n",
    "from Bio.Seq import Seq\n",
    "\n",
    "fasta_dna = []\n",
    "fasta_aa = []\n",
    "for i in sample:\n",
    "    cp = cp_prediction[i]\n",
    "    #bkg = bkg_predi[i]\n",
    "    dna_read = SeqRecord(Seq(candidates[i]), id=description[i], description=f\"{cp}\")\n",
    "    fasta_dna.append(dna_read)\n",
    "Bio.SeqIO.write(fasta_dna, \"CNN_MPH/candidates_cp_2.fasta\", \"fasta\")"
   ]
  }
 ],
 "metadata": {
  "kernelspec": {
   "display_name": "Python 3",
   "language": "python",
   "name": "python3"
  },
  "language_info": {
   "codemirror_mode": {
    "name": "ipython",
    "version": 3
   },
   "file_extension": ".py",
   "mimetype": "text/x-python",
   "name": "python",
   "nbconvert_exporter": "python",
   "pygments_lexer": "ipython3",
   "version": "3.8.10"
  }
 },
 "nbformat": 4,
 "nbformat_minor": 5
}
