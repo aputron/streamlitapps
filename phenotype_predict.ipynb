{
 "cells": [
  {
   "cell_type": "markdown",
   "id": "0e4b8b0a-c0b5-4fd1-9140-cd6ae183d643",
   "metadata": {
    "tags": []
   },
   "source": [
    "# Import libraries"
   ]
  },
  {
   "cell_type": "code",
   "execution_count": 6,
   "id": "b11c34a1-1a61-409c-a72b-8ec31409ed78",
   "metadata": {},
   "outputs": [],
   "source": [
    "import Bio.SeqIO\n",
    "from Bio.SeqRecord import SeqRecord\n",
    "from Bio.Seq import Seq\n",
    "import numpy as np\n",
    "import pandas as pd\n",
    "import tensorflow.keras.backend as K\n",
    "from tensorflow.keras.layers import Conv1D, Dense, MaxPooling1D, Flatten\n",
    "from tensorflow.keras.models import Sequential\n",
    "from tensorflow import keras as k\n",
    "from keras_preprocessing.sequence import pad_sequences\n",
    "from sklearn.preprocessing import LabelEncoder, OneHotEncoder"
   ]
  },
  {
   "cell_type": "markdown",
   "id": "1336a43a-90c6-4e19-ad7b-14e1da110cac",
   "metadata": {
    "jp-MarkdownHeadingCollapsed": true,
    "tags": []
   },
   "source": [
    "# Define functions"
   ]
  },
  {
   "cell_type": "code",
   "execution_count": 3,
   "id": "a1e1b166-8f49-4dc9-832c-d722db31dfa9",
   "metadata": {},
   "outputs": [],
   "source": [
    "def mcc(label_real, label_predicted):\n",
    "    \"\"\"Custom Metric for Accuracy and Precision\n",
    "\n",
    "    Parameters:\n",
    "    ----------\n",
    "    label_real: tensorflow.Tensor\n",
    "        Correct labels\n",
    "    label_predicted: tensorflow.Tensor\n",
    "        Predicted labels\n",
    "\n",
    "    Returns\n",
    "    -------\n",
    "    float\n",
    "        Custom metric\n",
    "    \"\"\"\n",
    "    true_pos = K.sum(K.round(K.clip(label_real * label_predicted, 0, 1)))\n",
    "    true_neg = K.sum(K.round(K.clip((1 - label_real) * (1 - label_predicted), 0, 1)))\n",
    "    false_pos = K.sum(K.round(K.clip((1 - label_real) * label_predicted, 0, 1)))\n",
    "    false_neg = K.sum(K.round(K.clip(label_real * (1 - label_predicted), 0, 1)))\n",
    "    number = true_pos * true_neg - false_pos * false_neg\n",
    "    denominator = K.sqrt((true_pos + false_pos) * \n",
    "                        (true_pos + false_neg) * \n",
    "                        (true_neg + false_pos) * \n",
    "                        (true_neg + false_neg))\n",
    "    return number / (denominator + K.epsilon())"
   ]
  },
  {
   "cell_type": "code",
   "execution_count": 4,
   "id": "a43c0822-b25d-4322-8304-97490be93a50",
   "metadata": {},
   "outputs": [],
   "source": [
    "def one_hot_encoding_aa(dataset):\n",
    "    \"\"\"One hot encoding of Amino Acid sequences\n",
    "\n",
    "    Parameters:\n",
    "    ----------\n",
    "    dataset: List[str]\n",
    "        List of Amino Acid sequences\n",
    "\n",
    "    Returns\n",
    "    -------\n",
    "    numpy.ndarray\n",
    "        One Hot Encoding of the amino acids (has dimensions dataset_size x seq_len x 21)\n",
    "    \"\"\"\n",
    "    integer_encoder = LabelEncoder()\n",
    "    one_hot_encoder = OneHotEncoder(categories='auto')\n",
    "    amino_acids = \"ARNDCQEGHILKMFPSTWYV*\"\n",
    "    input_features = []\n",
    "\n",
    "    # fix the encoded categories\n",
    "    ie = integer_encoder.fit_transform(list(amino_acids)) #.toarray().reshape(-1, 1)\n",
    "    ie = np.array(ie).reshape(-1, 1)\n",
    "    oe = one_hot_encoder.fit_transform(ie)\n",
    "\n",
    "    for sequence in dataset:\n",
    "        if type(sequence) == str:\n",
    "            integer_encoded = integer_encoder.transform(list(sequence)) #.toarray().reshape(-1, 1)\n",
    "            integer_encoded = np.array(integer_encoded).reshape(-1,1)\n",
    "            one_hot_encoded = one_hot_encoder.transform(integer_encoded)\n",
    "            input_features.append(one_hot_encoded.toarray())\n",
    "            \n",
    "    input_features = pad_sequences(input_features, padding=\"post\")\n",
    "    input_features = np.stack(input_features)\n",
    "    \n",
    "    return input_features"
   ]
  },
  {
   "cell_type": "code",
   "execution_count": 5,
   "id": "f77a6a95-cbc2-4bd8-a599-3f59587f8d66",
   "metadata": {},
   "outputs": [],
   "source": [
    "def one_hot_encoding(dataset, maxlen):\n",
    "    \"\"\"One hot encoding of DNA sequences\n",
    "\n",
    "    Parameters:\n",
    "    ----------\n",
    "    dataset: List[str]\n",
    "        List of DNA sequences\n",
    "    maxlen: int\n",
    "        Max length of padded sequences\n",
    "\n",
    "    Returns\n",
    "    -------\n",
    "    numpy.ndarray\n",
    "        One Hot Encoding of the DNA sequences (has dimensions dataset_size x maxlen x 4)\n",
    "    \"\"\"\n",
    "    integer_encoder = LabelEncoder()\n",
    "    one_hot_encoder = OneHotEncoder(categories='auto')\n",
    "    input_features = []\n",
    "    for sequence in dataset:\n",
    "        if type(sequence) == str:\n",
    "            integer_encoded = integer_encoder.fit_transform(list(sequence)) #.toarray().reshape(-1, 1)\n",
    "            integer_encoded = np.array(integer_encoded).reshape(-1,1)\n",
    "            one_hot_encoded = one_hot_encoder.fit_transform(integer_encoded)\n",
    "            input_features.append(one_hot_encoded.toarray())\n",
    "\n",
    "    input_features = pad_sequences(input_features, padding=\"post\", maxlen=maxlen)\n",
    "    input_features = np.stack(input_features)\n",
    "    \n",
    "    return input_features"
   ]
  },
  {
   "cell_type": "markdown",
   "id": "7791c974-a8cc-4bf0-9370-b0cda29b3775",
   "metadata": {
    "tags": []
   },
   "source": [
    "# Load models and mutant library"
   ]
  },
  {
   "cell_type": "code",
   "execution_count": null,
   "id": "05f92651-0720-4712-b6a8-7b55a3190c24",
   "metadata": {},
   "outputs": [],
   "source": [
    "candidates = []\n",
    "description = []\n",
    "for record in Bio.SeqIO.parse(\"Insilico/function_test_4-5_aa.fasta\", \"fasta\"):\n",
    "    candidat = str(record.seq)\n",
    "    candidates.append(candidat)\n",
    "    description.append(record.description)\n",
    "candidate = one_hot_encoding_aa(candidates)"
   ]
  },
  {
   "cell_type": "code",
   "execution_count": null,
   "id": "32da7d13-c53a-4744-a791-1bf614a1f39d",
   "metadata": {},
   "outputs": [],
   "source": [
    "candidates = []\n",
    "description = []\n",
    "for record in Bio.SeqIO.parse(\"Insilico/PR_combination_aa.fasta\", \"fasta\"):\n",
    "    candidat = str(record.seq)\n",
    "    candidates.append(candidat)\n",
    "    description.append(record.description)\n",
    "candidate = [one_hot_encoding_aa(candidates)]"
   ]
  },
  {
   "cell_type": "code",
   "execution_count": null,
   "id": "b9909089-72fd-47e0-9857-98e4024dc4dd",
   "metadata": {},
   "outputs": [],
   "source": [
    "candidates = []\n",
    "description = []\n",
    "for record in Bio.SeqIO.parse(\"Insilico/function_test_3-4_dna.fasta\", \"fasta\"):\n",
    "    #candidat = str(record.seq.translate())\n",
    "    candidates.append(str(record.seq))\n",
    "    description.append(record.description)\n",
    "candidate = [one_hot_encoding(candidates)]"
   ]
  },
  {
   "cell_type": "code",
   "execution_count": 6,
   "id": "983ae9e3-eede-4667-a466-034ae81d23bf",
   "metadata": {},
   "outputs": [],
   "source": [
    "candidates = []\n",
    "description = []\n",
    "for record in Bio.SeqIO.parse(\"Insilico/single_mutant_candidates.fasta\", \"fasta\"):\n",
    "    #candidat = str(record.seq.translate())\n",
    "    candidates.append(str(record.seq))\n",
    "    description.append(record.description)\n",
    "candidate = [one_hot_encoding(candidates)]"
   ]
  },
  {
   "cell_type": "code",
   "execution_count": 9,
   "id": "020910fb-9b91-4ff3-b952-90ab0d0b9e84",
   "metadata": {},
   "outputs": [],
   "source": [
    "# TODO: Optimize the hyperparameters\n",
    "# https://colab.research.google.com/drive/17E4h5aAOioh5DiTo7MZg4hpL6Z_0FyWr#scrollTo=eiiwjw4yhX0P\n",
    "# Function to build the models: simple 1D CNN model for binary classification\n",
    "# Input: one hot encoded sequence list\n",
    "\n",
    "#[CV 2/3; 1/1] START activation=elu, epochs=23, filters_size=373, num_of_layers=2, optimize=nadam\n",
    "\n",
    "from tensorflow.keras.layers import Conv1D, Dense, MaxPooling1D, Flatten\n",
    "from tensorflow.keras.models import Sequential\n",
    "from tensorflow import keras as k\n",
    "\n",
    "def cnn_1d(train_features):\n",
    "    model = Sequential()\n",
    "    model.add(Conv1D(filters=49, kernel_size=3, input_shape=(1784, 4)))\n",
    "    model.add(MaxPooling1D(pool_size=4))\n",
    "    model.add(Conv1D(filters=49, kernel_size=3, input_shape=(1784, 4)))\n",
    "    model.add(MaxPooling1D(pool_size=4))\n",
    "    # model.add(Flatten())\n",
    "    model.add(Conv1D(filters=49, kernel_size=3, input_shape=(1784, 4)))\n",
    "    model.add(MaxPooling1D(pool_size=4))\n",
    "    #model.add(Conv1D(filters=400, kernel_size=3, input_shape=(1784, 4)))\n",
    "    #model.add(MaxPooling1D(pool_size=4))\n",
    "    model.add(Flatten())\n",
    "    model.add(Dense(16, activation='elu'))\n",
    "    model.add(Dense(1, activation='sigmoid'))\n",
    "\n",
    "    model.compile(loss='binary_crossentropy', optimizer='sgd', metrics=['binary_accuracy', mcc])\n",
    "\n",
    "    # if you need to convert the model to a multi-class classification model\n",
    "    #model.compile(loss='categorical_crossentropy', optimizer='adam', metrics=['categorical_accuracy'])\n",
    "\n",
    "    model.summary()\n",
    "    return model"
   ]
  },
  {
   "cell_type": "code",
   "execution_count": 10,
   "id": "8a04c1b9-5a69-46f7-a89c-3fe60d53b47d",
   "metadata": {},
   "outputs": [
    {
     "name": "stdout",
     "output_type": "stream",
     "text": [
      "Model: \"sequential\"\n",
      "_________________________________________________________________\n",
      " Layer (type)                Output Shape              Param #   \n",
      "=================================================================\n",
      " conv1d (Conv1D)             (None, 1782, 49)          637       \n",
      "                                                                 \n",
      " max_pooling1d (MaxPooling1D  (None, 445, 49)          0         \n",
      " )                                                               \n",
      "                                                                 \n",
      " conv1d_1 (Conv1D)           (None, 443, 49)           7252      \n",
      "                                                                 \n",
      " max_pooling1d_1 (MaxPooling  (None, 110, 49)          0         \n",
      " 1D)                                                             \n",
      "                                                                 \n",
      " conv1d_2 (Conv1D)           (None, 108, 49)           7252      \n",
      "                                                                 \n",
      " max_pooling1d_2 (MaxPooling  (None, 27, 49)           0         \n",
      " 1D)                                                             \n",
      "                                                                 \n",
      " flatten (Flatten)           (None, 1323)              0         \n",
      "                                                                 \n",
      " dense (Dense)               (None, 16)                21184     \n",
      "                                                                 \n",
      " dense_1 (Dense)             (None, 1)                 17        \n",
      "                                                                 \n",
      "=================================================================\n",
      "Total params: 36,342\n",
      "Trainable params: 36,342\n",
      "Non-trainable params: 0\n",
      "_________________________________________________________________\n"
     ]
    }
   ],
   "source": [
    "dependencies = {\n",
    "    'mcc': mcc\n",
    "}\n",
    "\n",
    "#signal_model = keras.models.load_model('CNN_aa/trained_models/mcc_BC_opt_aaprop_signal_v0.1.h5', compile=False)\n",
    "#bkg_model = keras.models.load_model('CNN_aa/trained_models/mcc_BC_opt_aaprop_bkg_v0.2.h5', compile=False)\n",
    "\n",
    "#signal_model = keras.models.load_model('CNN_aa/trained_models/mcc_BC_opt_aaprop_signal_v0.1.h5', compile=False)\n",
    "background_model = keras.models.load_model('CNN_multilabel/trained_models/binary_classification_CNN1D_bkg_v2.3.h5', compile=False)\n",
    "#signal_model.load_weights(\"CNN_multilabel/val_signal_best_weights_4.h5\")\n",
    "signal_model = cnn_1d(1784)\n",
    "signal_model.load_weights(\"CNN_multilabel/opt_sig_best.h5\")\n",
    "\n",
    "# with h5py.File('CNN_multilabel/opt_sig_best.h5', 'r') as f:\n",
    "#     # Iterate through the layers in the model\n",
    "#     for layer_name in f.keys():\n",
    "#         layer = f[layer_name]\n",
    "#         print(layer.values)\n",
    "#         for i in layer:\n",
    "#             print(i)"
   ]
  },
  {
   "cell_type": "markdown",
   "id": "50c3b44f-7b75-47af-b145-40aec8029a61",
   "metadata": {
    "tags": []
   },
   "source": [
    "# Predict samples"
   ]
  },
  {
   "cell_type": "code",
   "execution_count": 11,
   "id": "607b62cb-9540-433a-94c2-356639818a59",
   "metadata": {},
   "outputs": [
    {
     "name": "stdout",
     "output_type": "stream",
     "text": [
      "44566/44566 [==============================] - 208s 5ms/step\n",
      "44566/44566 [==============================] - 213s 5ms/step\n"
     ]
    }
   ],
   "source": [
    "signal_prediction = signal_model.predict(candidate)#.flatten().tolist()\n",
    "\n",
    "bkg_prediction = background_model.predict(candidate)#.flatten().tolist()seq"
   ]
  },
  {
   "cell_type": "code",
   "execution_count": null,
   "metadata": {},
   "outputs": [],
   "source": [
    "\n",
    "    for idx, row in prediction.iterrows():\n",
    "        sig_val, bkg_val = row['Signal'], row['Background']\n",
    "        if round(sig_val) == 0 and round(bkg_val) == 0:\n",
    "            lslb.append(idx)\n",
    "        elif round(sig_val) == 0 and round(bkg_val) == 1:\n",
    "            lshb.append(idx)\n",
    "        elif round(sig_val) == 1 and round(bkg_val) == 0:\n",
    "            if not \"*\" in description[index]:\n",
    "                hslb.append(idx)\n",
    "        elif round(sig_val) == 1 and round(bkg_val) == 1:\n",
    "            hshb.append(idx)\n",
    "\n",
    "    lslb.sort(key=lambda idx: (prediction.iloc[idx]['Background'], prediction.iloc[idx]['Signal']))\n",
    "    lshb.sort(key=lambda idx: (prediction.iloc[idx]['Background'], -prediction.iloc[idx]['Signal']))\n",
    "    hslb.sort(key=lambda idx: (-prediction.iloc[idx]['Background'], prediction.iloc[idx]['Signal']))\n",
    "    hshb.sort(key=lambda idx: (-prediction.iloc[idx]['Background'], -prediction.iloc[idx]['Signal']))\n"
   ]
  },
  {
   "cell_type": "code",
   "execution_count": 15,
   "id": "dc892683-7e5d-4234-be4d-64e85b1a3c28",
   "metadata": {},
   "outputs": [],
   "source": [
    "actual_values=[\"low\", \"low\", \"high\", \"high\", \"low\",\n",
    "              \"high\", \"low\", \"high\", \"high\", \"low\", \"low\",\n",
    "              \"low\", \"low\", \"low\", \"high\", \"high\", \"low\",\n",
    "              \"low\", \"high\", \"high\", \"high\"]"
   ]
  },
  {
   "cell_type": "code",
   "execution_count": 16,
   "id": "3e5117e8-de42-47dc-84eb-f7c78ff4cb46",
   "metadata": {},
   "outputs": [
    {
     "data": {
      "text/plain": [
       "array([[0.36970812],\n",
       "       [0.5214745 ],\n",
       "       [0.43355188],\n",
       "       [0.4899329 ],\n",
       "       [0.40918002],\n",
       "       [0.3746195 ],\n",
       "       [0.42283514],\n",
       "       [0.5068196 ],\n",
       "       [0.53170043],\n",
       "       [0.48283526],\n",
       "       [0.28146476],\n",
       "       [0.3872459 ],\n",
       "       [0.49370536],\n",
       "       [0.49925408],\n",
       "       [0.5197781 ],\n",
       "       [0.6088199 ],\n",
       "       [0.48644224],\n",
       "       [0.39418834],\n",
       "       [0.5129883 ],\n",
       "       [0.501869  ],\n",
       "       [0.72036624]], dtype=float32)"
      ]
     },
     "execution_count": 16,
     "metadata": {},
     "output_type": "execute_result"
    }
   ],
   "source": [
    "signal_prediction"
   ]
  },
  {
   "cell_type": "code",
   "execution_count": 20,
   "id": "39d469d2-547b-4948-9f47-6d6a16f0180b",
   "metadata": {},
   "outputs": [
    {
     "name": "stdout",
     "output_type": "stream",
     "text": [
      "0.8095238095238095\n"
     ]
    }
   ],
   "source": [
    "# pred_labels = []\n",
    "# for i in signal_prediction:\n",
    "#     if i[0] > i[1]:\n",
    "#         pred = \"low\"\n",
    "#     else:\n",
    "#         pred = \"high\"\n",
    "#     pred_labels.append(pred)\n",
    "    \n",
    "for i in np.round(signal_prediction):\n",
    "    if i > 0.52:\n",
    "        pred = \"high\"\n",
    "    else: \n",
    "        pred = \"low\"\n",
    "    pred_labels.append(pred)\n",
    "d = pd.DataFrame(list(zip(pred_labels, actual_values)), columns=[\"predicted\", \"actual\"], index=description)\n",
    "count = 0\n",
    "for i in range(21):\n",
    "    if actual_values[i] != \"-\":\n",
    "        if pred_labels[i] == actual_values[i]:\n",
    "            count += 1\n",
    "print(count/21)"
   ]
  },
  {
   "cell_type": "code",
   "execution_count": 56,
   "id": "1fffead2-5be7-4915-bac7-d36b1c225283",
   "metadata": {},
   "outputs": [],
   "source": [
    "bkg_predi = []\n",
    "for i in bkg_prediction:\n",
    "    bkg_predi.append(i[1])\n",
    "bkg_pred = pd.DataFrame(bkg_predi, columns=[\"Background\"])#, index=description)\n",
    "sig_pred = pd.DataFrame(signal_prediction, columns=[\"Signal\"])#, index=description)\n",
    "#bkg_pred"
   ]
  },
  {
   "cell_type": "code",
   "execution_count": 57,
   "id": "57e62708-c2ab-4942-a9db-b04284e4aa5c",
   "metadata": {},
   "outputs": [],
   "source": [
    "#prediction = pd.DataFrame(list(zip(pred_labels, actual_values)), columns=[\"Signal\", \"actual\"], index=description)\n",
    "#prediction = pd.DataFrame(list(zip(signal_prediction)), columns=[\"Signal\"], index=description)\n",
    "prediction = pd.concat([sig_pred, bkg_pred], axis=1)"
   ]
  },
  {
   "cell_type": "code",
   "execution_count": 58,
   "id": "5a527b36-a4ad-45a5-b939-300e940322fa",
   "metadata": {},
   "outputs": [
    {
     "data": {
      "text/html": [
       "<div>\n",
       "<style scoped>\n",
       "    .dataframe tbody tr th:only-of-type {\n",
       "        vertical-align: middle;\n",
       "    }\n",
       "\n",
       "    .dataframe tbody tr th {\n",
       "        vertical-align: top;\n",
       "    }\n",
       "\n",
       "    .dataframe thead th {\n",
       "        text-align: right;\n",
       "    }\n",
       "</style>\n",
       "<table border=\"1\" class=\"dataframe\">\n",
       "  <thead>\n",
       "    <tr style=\"text-align: right;\">\n",
       "      <th></th>\n",
       "      <th>Signal</th>\n",
       "      <th>Background</th>\n",
       "    </tr>\n",
       "  </thead>\n",
       "  <tbody>\n",
       "    <tr>\n",
       "      <th>294554</th>\n",
       "      <td>1.000000</td>\n",
       "      <td>0.997767</td>\n",
       "    </tr>\n",
       "    <tr>\n",
       "      <th>295586</th>\n",
       "      <td>1.000000</td>\n",
       "      <td>0.999999</td>\n",
       "    </tr>\n",
       "    <tr>\n",
       "      <th>335894</th>\n",
       "      <td>1.000000</td>\n",
       "      <td>1.000000</td>\n",
       "    </tr>\n",
       "    <tr>\n",
       "      <th>780206</th>\n",
       "      <td>1.000000</td>\n",
       "      <td>1.000000</td>\n",
       "    </tr>\n",
       "    <tr>\n",
       "      <th>295819</th>\n",
       "      <td>1.000000</td>\n",
       "      <td>1.000000</td>\n",
       "    </tr>\n",
       "    <tr>\n",
       "      <th>...</th>\n",
       "      <td>...</td>\n",
       "      <td>...</td>\n",
       "    </tr>\n",
       "    <tr>\n",
       "      <th>601001</th>\n",
       "      <td>0.011561</td>\n",
       "      <td>0.018716</td>\n",
       "    </tr>\n",
       "    <tr>\n",
       "      <th>59279</th>\n",
       "      <td>0.009416</td>\n",
       "      <td>0.955611</td>\n",
       "    </tr>\n",
       "    <tr>\n",
       "      <th>183239</th>\n",
       "      <td>0.009305</td>\n",
       "      <td>0.999547</td>\n",
       "    </tr>\n",
       "    <tr>\n",
       "      <th>79504</th>\n",
       "      <td>0.008028</td>\n",
       "      <td>0.055246</td>\n",
       "    </tr>\n",
       "    <tr>\n",
       "      <th>607540</th>\n",
       "      <td>0.007856</td>\n",
       "      <td>0.029187</td>\n",
       "    </tr>\n",
       "  </tbody>\n",
       "</table>\n",
       "<p>1426111 rows × 2 columns</p>\n",
       "</div>"
      ],
      "text/plain": [
       "          Signal  Background\n",
       "294554  1.000000    0.997767\n",
       "295586  1.000000    0.999999\n",
       "335894  1.000000    1.000000\n",
       "780206  1.000000    1.000000\n",
       "295819  1.000000    1.000000\n",
       "...          ...         ...\n",
       "601001  0.011561    0.018716\n",
       "59279   0.009416    0.955611\n",
       "183239  0.009305    0.999547\n",
       "79504   0.008028    0.055246\n",
       "607540  0.007856    0.029187\n",
       "\n",
       "[1426111 rows x 2 columns]"
      ]
     },
     "execution_count": 58,
     "metadata": {},
     "output_type": "execute_result"
    }
   ],
   "source": [
    "prediction.sort_values('Signal', ascending=False)"
   ]
  },
  {
   "cell_type": "code",
   "execution_count": 59,
   "id": "d45f8475-69d7-49d8-aea4-eb0ea6752214",
   "metadata": {},
   "outputs": [
    {
     "data": {
      "text/html": [
       "<div>\n",
       "<style scoped>\n",
       "    .dataframe tbody tr th:only-of-type {\n",
       "        vertical-align: middle;\n",
       "    }\n",
       "\n",
       "    .dataframe tbody tr th {\n",
       "        vertical-align: top;\n",
       "    }\n",
       "\n",
       "    .dataframe thead th {\n",
       "        text-align: right;\n",
       "    }\n",
       "</style>\n",
       "<table border=\"1\" class=\"dataframe\">\n",
       "  <thead>\n",
       "    <tr style=\"text-align: right;\">\n",
       "      <th></th>\n",
       "      <th>Signal</th>\n",
       "      <th>Background</th>\n",
       "    </tr>\n",
       "  </thead>\n",
       "  <tbody>\n",
       "    <tr>\n",
       "      <th>0</th>\n",
       "      <td>0.294429</td>\n",
       "      <td>0.645030</td>\n",
       "    </tr>\n",
       "    <tr>\n",
       "      <th>1</th>\n",
       "      <td>0.145416</td>\n",
       "      <td>0.991693</td>\n",
       "    </tr>\n",
       "    <tr>\n",
       "      <th>2</th>\n",
       "      <td>0.433325</td>\n",
       "      <td>1.000000</td>\n",
       "    </tr>\n",
       "    <tr>\n",
       "      <th>3</th>\n",
       "      <td>0.550178</td>\n",
       "      <td>0.062479</td>\n",
       "    </tr>\n",
       "    <tr>\n",
       "      <th>4</th>\n",
       "      <td>0.474823</td>\n",
       "      <td>0.998845</td>\n",
       "    </tr>\n",
       "    <tr>\n",
       "      <th>...</th>\n",
       "      <td>...</td>\n",
       "      <td>...</td>\n",
       "    </tr>\n",
       "    <tr>\n",
       "      <th>1426106</th>\n",
       "      <td>0.209240</td>\n",
       "      <td>0.679889</td>\n",
       "    </tr>\n",
       "    <tr>\n",
       "      <th>1426107</th>\n",
       "      <td>0.265832</td>\n",
       "      <td>0.608610</td>\n",
       "    </tr>\n",
       "    <tr>\n",
       "      <th>1426108</th>\n",
       "      <td>0.372132</td>\n",
       "      <td>0.242968</td>\n",
       "    </tr>\n",
       "    <tr>\n",
       "      <th>1426109</th>\n",
       "      <td>0.528983</td>\n",
       "      <td>0.052316</td>\n",
       "    </tr>\n",
       "    <tr>\n",
       "      <th>1426110</th>\n",
       "      <td>0.462388</td>\n",
       "      <td>0.038553</td>\n",
       "    </tr>\n",
       "  </tbody>\n",
       "</table>\n",
       "<p>1426111 rows × 2 columns</p>\n",
       "</div>"
      ],
      "text/plain": [
       "           Signal  Background\n",
       "0        0.294429    0.645030\n",
       "1        0.145416    0.991693\n",
       "2        0.433325    1.000000\n",
       "3        0.550178    0.062479\n",
       "4        0.474823    0.998845\n",
       "...           ...         ...\n",
       "1426106  0.209240    0.679889\n",
       "1426107  0.265832    0.608610\n",
       "1426108  0.372132    0.242968\n",
       "1426109  0.528983    0.052316\n",
       "1426110  0.462388    0.038553\n",
       "\n",
       "[1426111 rows x 2 columns]"
      ]
     },
     "execution_count": 59,
     "metadata": {},
     "output_type": "execute_result"
    }
   ],
   "source": [
    "prediction"
   ]
  },
  {
   "cell_type": "code",
   "execution_count": 60,
   "id": "474d6fa5-57cd-41e7-9da8-c12cb510b867",
   "metadata": {},
   "outputs": [],
   "source": [
    "predi = []\n",
    "for i in prediction[\"Signal\"]:\n",
    "    if i < 0.52:\n",
    "        predi.append(i)"
   ]
  },
  {
   "cell_type": "code",
   "execution_count": 61,
   "id": "d7483b4e-dc0b-4ef4-91ea-8f031986ed1b",
   "metadata": {},
   "outputs": [],
   "source": [
    "signal_sort = prediction.sort_values(['Signal', 'Background'], ascending=[False, False])"
   ]
  },
  {
   "cell_type": "code",
   "execution_count": 62,
   "id": "28b6bb36-e093-4ffc-910e-78c76147f3ba",
   "metadata": {},
   "outputs": [],
   "source": [
    "hslb = []\n",
    "hshb = []\n",
    "lshb = []\n",
    "lslb = []\n",
    "\n",
    "for index, row in signal_sort.iterrows():\n",
    "    if round(row['Background']) == 0:\n",
    "        if not \"*\" in description[index]:\n",
    "            hslb.append(index)\n",
    "    elif round(row['Background']) == 1:\n",
    "        hshb.append(index)\n",
    "\n",
    "for index, row in signal_sort[::-1].iterrows():\n",
    "    if round(row['Background']) == 0:\n",
    "        lslb.append(index)\n",
    "    elif round(row['Background']) == 1:\n",
    "        lshb.append(index)"
   ]
  },
  {
   "cell_type": "code",
   "execution_count": 63,
   "id": "d4b587c2-4500-4463-b351-ade8e107d714",
   "metadata": {},
   "outputs": [
    {
     "name": "stdout",
     "output_type": "stream",
     "text": [
      "603505\n",
      "677464\n",
      "677464\n",
      "748647\n"
     ]
    }
   ],
   "source": [
    "print(len(hslb))\n",
    "print(len(hshb))\n",
    "print(len(lshb))\n",
    "print(len(lslb))"
   ]
  },
  {
   "cell_type": "code",
   "execution_count": 65,
   "id": "e99813f3",
   "metadata": {},
   "outputs": [
    {
     "data": {
      "text/html": [
       "<div>\n",
       "<style scoped>\n",
       "    .dataframe tbody tr th:only-of-type {\n",
       "        vertical-align: middle;\n",
       "    }\n",
       "\n",
       "    .dataframe tbody tr th {\n",
       "        vertical-align: top;\n",
       "    }\n",
       "\n",
       "    .dataframe thead th {\n",
       "        text-align: right;\n",
       "    }\n",
       "</style>\n",
       "<table border=\"1\" class=\"dataframe\">\n",
       "  <thead>\n",
       "    <tr style=\"text-align: right;\">\n",
       "      <th></th>\n",
       "      <th>Signal</th>\n",
       "      <th>Background</th>\n",
       "    </tr>\n",
       "  </thead>\n",
       "  <tbody>\n",
       "    <tr>\n",
       "      <th>94052</th>\n",
       "      <td>1.000000</td>\n",
       "      <td>1.000000</td>\n",
       "    </tr>\n",
       "    <tr>\n",
       "      <th>142630</th>\n",
       "      <td>1.000000</td>\n",
       "      <td>1.000000</td>\n",
       "    </tr>\n",
       "    <tr>\n",
       "      <th>221941</th>\n",
       "      <td>1.000000</td>\n",
       "      <td>1.000000</td>\n",
       "    </tr>\n",
       "    <tr>\n",
       "      <th>295819</th>\n",
       "      <td>1.000000</td>\n",
       "      <td>1.000000</td>\n",
       "    </tr>\n",
       "    <tr>\n",
       "      <th>335894</th>\n",
       "      <td>1.000000</td>\n",
       "      <td>1.000000</td>\n",
       "    </tr>\n",
       "    <tr>\n",
       "      <th>...</th>\n",
       "      <td>...</td>\n",
       "      <td>...</td>\n",
       "    </tr>\n",
       "    <tr>\n",
       "      <th>601001</th>\n",
       "      <td>0.011561</td>\n",
       "      <td>0.018716</td>\n",
       "    </tr>\n",
       "    <tr>\n",
       "      <th>59279</th>\n",
       "      <td>0.009416</td>\n",
       "      <td>0.955611</td>\n",
       "    </tr>\n",
       "    <tr>\n",
       "      <th>183239</th>\n",
       "      <td>0.009305</td>\n",
       "      <td>0.999547</td>\n",
       "    </tr>\n",
       "    <tr>\n",
       "      <th>79504</th>\n",
       "      <td>0.008028</td>\n",
       "      <td>0.055246</td>\n",
       "    </tr>\n",
       "    <tr>\n",
       "      <th>607540</th>\n",
       "      <td>0.007856</td>\n",
       "      <td>0.029187</td>\n",
       "    </tr>\n",
       "  </tbody>\n",
       "</table>\n",
       "<p>1426111 rows × 2 columns</p>\n",
       "</div>"
      ],
      "text/plain": [
       "          Signal  Background\n",
       "94052   1.000000    1.000000\n",
       "142630  1.000000    1.000000\n",
       "221941  1.000000    1.000000\n",
       "295819  1.000000    1.000000\n",
       "335894  1.000000    1.000000\n",
       "...          ...         ...\n",
       "601001  0.011561    0.018716\n",
       "59279   0.009416    0.955611\n",
       "183239  0.009305    0.999547\n",
       "79504   0.008028    0.055246\n",
       "607540  0.007856    0.029187\n",
       "\n",
       "[1426111 rows x 2 columns]"
      ]
     },
     "execution_count": 65,
     "metadata": {},
     "output_type": "execute_result"
    }
   ],
   "source": [
    "signal_sort"
   ]
  },
  {
   "cell_type": "code",
   "execution_count": 70,
   "id": "7034d4a3-9d01-42e2-b3ef-c1e49e44738a",
   "metadata": {},
   "outputs": [],
   "source": [
    "hslb_f = hslb[:101]\n",
    "hshb_f = hshb[:100]\n",
    "lshb_f = lshb[:100]\n",
    "lslb_f = lslb[:100]"
   ]
  },
  {
   "cell_type": "code",
   "execution_count": 420,
   "id": "a51670d0-498e-4ed7-8d88-185354cdb41f",
   "metadata": {},
   "outputs": [
    {
     "data": {
      "text/plain": [
       "[11583, 16321, 32547, 131462, 197042]"
      ]
     },
     "execution_count": 420,
     "metadata": {},
     "output_type": "execute_result"
    }
   ],
   "source": [
    "hshb"
   ]
  },
  {
   "cell_type": "code",
   "execution_count": 421,
   "id": "1e1798fe-3ae8-4947-bbfd-1702458f323e",
   "metadata": {},
   "outputs": [
    {
     "data": {
      "text/plain": [
       "[798857, 673755, 561222, 3407, 406260]"
      ]
     },
     "execution_count": 421,
     "metadata": {},
     "output_type": "execute_result"
    }
   ],
   "source": [
    "lshb"
   ]
  },
  {
   "cell_type": "code",
   "execution_count": 422,
   "id": "bd9f1206-bd77-450a-99f2-df5472901a29",
   "metadata": {},
   "outputs": [
    {
     "data": {
      "text/plain": [
       "[796378, 886001, 474654, 17161, 453000]"
      ]
     },
     "execution_count": 422,
     "metadata": {},
     "output_type": "execute_result"
    }
   ],
   "source": [
    "lslb"
   ]
  },
  {
   "cell_type": "code",
   "execution_count": 72,
   "id": "1ec59e19-b7c4-4149-a70b-1c4d6a5fb556",
   "metadata": {},
   "outputs": [
    {
     "data": {
      "text/html": [
       "<div>\n",
       "<style scoped>\n",
       "    .dataframe tbody tr th:only-of-type {\n",
       "        vertical-align: middle;\n",
       "    }\n",
       "\n",
       "    .dataframe tbody tr th {\n",
       "        vertical-align: top;\n",
       "    }\n",
       "\n",
       "    .dataframe thead th {\n",
       "        text-align: right;\n",
       "    }\n",
       "</style>\n",
       "<table border=\"1\" class=\"dataframe\">\n",
       "  <thead>\n",
       "    <tr style=\"text-align: right;\">\n",
       "      <th></th>\n",
       "      <th>Signal</th>\n",
       "      <th>Background</th>\n",
       "    </tr>\n",
       "  </thead>\n",
       "  <tbody>\n",
       "    <tr>\n",
       "      <th>1340442</th>\n",
       "      <td>0.999999</td>\n",
       "      <td>0.168831</td>\n",
       "    </tr>\n",
       "    <tr>\n",
       "      <th>128262</th>\n",
       "      <td>0.999998</td>\n",
       "      <td>0.309711</td>\n",
       "    </tr>\n",
       "    <tr>\n",
       "      <th>632052</th>\n",
       "      <td>0.999997</td>\n",
       "      <td>0.055607</td>\n",
       "    </tr>\n",
       "    <tr>\n",
       "      <th>29588</th>\n",
       "      <td>0.999997</td>\n",
       "      <td>0.227455</td>\n",
       "    </tr>\n",
       "    <tr>\n",
       "      <th>1224988</th>\n",
       "      <td>0.999985</td>\n",
       "      <td>0.333686</td>\n",
       "    </tr>\n",
       "    <tr>\n",
       "      <th>...</th>\n",
       "      <td>...</td>\n",
       "      <td>...</td>\n",
       "    </tr>\n",
       "    <tr>\n",
       "      <th>971532</th>\n",
       "      <td>0.997839</td>\n",
       "      <td>0.056769</td>\n",
       "    </tr>\n",
       "    <tr>\n",
       "      <th>1322205</th>\n",
       "      <td>0.997815</td>\n",
       "      <td>0.055699</td>\n",
       "    </tr>\n",
       "    <tr>\n",
       "      <th>827648</th>\n",
       "      <td>0.997797</td>\n",
       "      <td>0.060096</td>\n",
       "    </tr>\n",
       "    <tr>\n",
       "      <th>1314594</th>\n",
       "      <td>0.997796</td>\n",
       "      <td>0.043655</td>\n",
       "    </tr>\n",
       "    <tr>\n",
       "      <th>286928</th>\n",
       "      <td>0.997776</td>\n",
       "      <td>0.020759</td>\n",
       "    </tr>\n",
       "  </tbody>\n",
       "</table>\n",
       "<p>101 rows × 2 columns</p>\n",
       "</div>"
      ],
      "text/plain": [
       "           Signal  Background\n",
       "1340442  0.999999    0.168831\n",
       "128262   0.999998    0.309711\n",
       "632052   0.999997    0.055607\n",
       "29588    0.999997    0.227455\n",
       "1224988  0.999985    0.333686\n",
       "...           ...         ...\n",
       "971532   0.997839    0.056769\n",
       "1322205  0.997815    0.055699\n",
       "827648   0.997797    0.060096\n",
       "1314594  0.997796    0.043655\n",
       "286928   0.997776    0.020759\n",
       "\n",
       "[101 rows x 2 columns]"
      ]
     },
     "execution_count": 72,
     "metadata": {},
     "output_type": "execute_result"
    }
   ],
   "source": [
    "prediction.iloc[hslb_f]"
   ]
  },
  {
   "cell_type": "code",
   "execution_count": 424,
   "id": "9dfca04f-84c5-4bdc-953a-03f6b4601f60",
   "metadata": {},
   "outputs": [
    {
     "data": {
      "text/html": [
       "<div>\n",
       "<style scoped>\n",
       "    .dataframe tbody tr th:only-of-type {\n",
       "        vertical-align: middle;\n",
       "    }\n",
       "\n",
       "    .dataframe tbody tr th {\n",
       "        vertical-align: top;\n",
       "    }\n",
       "\n",
       "    .dataframe thead th {\n",
       "        text-align: right;\n",
       "    }\n",
       "</style>\n",
       "<table border=\"1\" class=\"dataframe\">\n",
       "  <thead>\n",
       "    <tr style=\"text-align: right;\">\n",
       "      <th></th>\n",
       "      <th>Signal</th>\n",
       "      <th>Background</th>\n",
       "    </tr>\n",
       "  </thead>\n",
       "  <tbody>\n",
       "    <tr>\n",
       "      <th>11583</th>\n",
       "      <td>1.0</td>\n",
       "      <td>1.0</td>\n",
       "    </tr>\n",
       "    <tr>\n",
       "      <th>16321</th>\n",
       "      <td>1.0</td>\n",
       "      <td>1.0</td>\n",
       "    </tr>\n",
       "    <tr>\n",
       "      <th>32547</th>\n",
       "      <td>1.0</td>\n",
       "      <td>1.0</td>\n",
       "    </tr>\n",
       "    <tr>\n",
       "      <th>131462</th>\n",
       "      <td>1.0</td>\n",
       "      <td>1.0</td>\n",
       "    </tr>\n",
       "    <tr>\n",
       "      <th>197042</th>\n",
       "      <td>1.0</td>\n",
       "      <td>1.0</td>\n",
       "    </tr>\n",
       "  </tbody>\n",
       "</table>\n",
       "</div>"
      ],
      "text/plain": [
       "        Signal  Background\n",
       "11583      1.0         1.0\n",
       "16321      1.0         1.0\n",
       "32547      1.0         1.0\n",
       "131462     1.0         1.0\n",
       "197042     1.0         1.0"
      ]
     },
     "execution_count": 424,
     "metadata": {},
     "output_type": "execute_result"
    }
   ],
   "source": [
    "prediction.iloc[hshb]"
   ]
  },
  {
   "cell_type": "code",
   "execution_count": 425,
   "id": "302c2d85-b8e2-4ee0-b363-674cf7deef40",
   "metadata": {},
   "outputs": [
    {
     "data": {
      "text/html": [
       "<div>\n",
       "<style scoped>\n",
       "    .dataframe tbody tr th:only-of-type {\n",
       "        vertical-align: middle;\n",
       "    }\n",
       "\n",
       "    .dataframe tbody tr th {\n",
       "        vertical-align: top;\n",
       "    }\n",
       "\n",
       "    .dataframe thead th {\n",
       "        text-align: right;\n",
       "    }\n",
       "</style>\n",
       "<table border=\"1\" class=\"dataframe\">\n",
       "  <thead>\n",
       "    <tr style=\"text-align: right;\">\n",
       "      <th></th>\n",
       "      <th>Signal</th>\n",
       "      <th>Background</th>\n",
       "    </tr>\n",
       "  </thead>\n",
       "  <tbody>\n",
       "    <tr>\n",
       "      <th>798857</th>\n",
       "      <td>0.001696</td>\n",
       "      <td>0.847137</td>\n",
       "    </tr>\n",
       "    <tr>\n",
       "      <th>673755</th>\n",
       "      <td>0.002086</td>\n",
       "      <td>0.971720</td>\n",
       "    </tr>\n",
       "    <tr>\n",
       "      <th>561222</th>\n",
       "      <td>0.002734</td>\n",
       "      <td>0.984453</td>\n",
       "    </tr>\n",
       "    <tr>\n",
       "      <th>3407</th>\n",
       "      <td>0.002936</td>\n",
       "      <td>0.999999</td>\n",
       "    </tr>\n",
       "    <tr>\n",
       "      <th>406260</th>\n",
       "      <td>0.004137</td>\n",
       "      <td>0.999439</td>\n",
       "    </tr>\n",
       "  </tbody>\n",
       "</table>\n",
       "</div>"
      ],
      "text/plain": [
       "          Signal  Background\n",
       "798857  0.001696    0.847137\n",
       "673755  0.002086    0.971720\n",
       "561222  0.002734    0.984453\n",
       "3407    0.002936    0.999999\n",
       "406260  0.004137    0.999439"
      ]
     },
     "execution_count": 425,
     "metadata": {},
     "output_type": "execute_result"
    }
   ],
   "source": [
    "prediction.iloc[lshb]"
   ]
  },
  {
   "cell_type": "code",
   "execution_count": 426,
   "id": "93b1f863-646f-4eee-8738-d5b093a50297",
   "metadata": {},
   "outputs": [
    {
     "data": {
      "text/html": [
       "<div>\n",
       "<style scoped>\n",
       "    .dataframe tbody tr th:only-of-type {\n",
       "        vertical-align: middle;\n",
       "    }\n",
       "\n",
       "    .dataframe tbody tr th {\n",
       "        vertical-align: top;\n",
       "    }\n",
       "\n",
       "    .dataframe thead th {\n",
       "        text-align: right;\n",
       "    }\n",
       "</style>\n",
       "<table border=\"1\" class=\"dataframe\">\n",
       "  <thead>\n",
       "    <tr style=\"text-align: right;\">\n",
       "      <th></th>\n",
       "      <th>Signal</th>\n",
       "      <th>Background</th>\n",
       "    </tr>\n",
       "  </thead>\n",
       "  <tbody>\n",
       "    <tr>\n",
       "      <th>796378</th>\n",
       "      <td>0.000634</td>\n",
       "      <td>0.333993</td>\n",
       "    </tr>\n",
       "    <tr>\n",
       "      <th>886001</th>\n",
       "      <td>0.001455</td>\n",
       "      <td>0.000823</td>\n",
       "    </tr>\n",
       "    <tr>\n",
       "      <th>474654</th>\n",
       "      <td>0.003202</td>\n",
       "      <td>0.000313</td>\n",
       "    </tr>\n",
       "    <tr>\n",
       "      <th>17161</th>\n",
       "      <td>0.003309</td>\n",
       "      <td>0.001406</td>\n",
       "    </tr>\n",
       "    <tr>\n",
       "      <th>453000</th>\n",
       "      <td>0.003374</td>\n",
       "      <td>0.000002</td>\n",
       "    </tr>\n",
       "  </tbody>\n",
       "</table>\n",
       "</div>"
      ],
      "text/plain": [
       "          Signal  Background\n",
       "796378  0.000634    0.333993\n",
       "886001  0.001455    0.000823\n",
       "474654  0.003202    0.000313\n",
       "17161   0.003309    0.001406\n",
       "453000  0.003374    0.000002"
      ]
     },
     "execution_count": 426,
     "metadata": {},
     "output_type": "execute_result"
    }
   ],
   "source": [
    "prediction.iloc[lslb]"
   ]
  },
  {
   "cell_type": "code",
   "execution_count": 73,
   "id": "762b4db9-1bcc-4b95-ab2d-021b50b79446",
   "metadata": {},
   "outputs": [
    {
     "data": {
      "text/plain": [
       "101"
      ]
     },
     "execution_count": 73,
     "metadata": {},
     "output_type": "execute_result"
    }
   ],
   "source": [
    "from Bio.SeqRecord import SeqRecord\n",
    "from Bio.Seq import Seq\n",
    "\n",
    "fasta_dna = []\n",
    "fasta_aa = []\n",
    "for i in hslb_f:\n",
    "    signal = signal_prediction[i][0]\n",
    "    bkg = bkg_predi[i]\n",
    "    dna_read = SeqRecord(Seq(candidates[i]), id=description[i], description=f\"{signal}  {bkg}\")\n",
    "    fasta_dna.append(dna_read)\n",
    "Bio.SeqIO.write(fasta_dna, \"high_candidates_dna.fasta\", \"fasta\")\n"
   ]
  },
  {
   "cell_type": "code",
   "execution_count": 28,
   "id": "c09ae0cc-a15c-4667-9568-6e3d4cb07272",
   "metadata": {},
   "outputs": [
    {
     "ename": "TypeError",
     "evalue": "list indices must be integers or slices, not str",
     "output_type": "error",
     "traceback": [
      "\u001b[0;31m---------------------------------------------------------------------------\u001b[0m",
      "\u001b[0;31mTypeError\u001b[0m                                 Traceback (most recent call last)",
      "Cell \u001b[0;32mIn [28], line 2\u001b[0m\n\u001b[1;32m      1\u001b[0m \u001b[38;5;28;01mfor\u001b[39;00m i \u001b[38;5;129;01min\u001b[39;00m \u001b[38;5;28mrange\u001b[39m(\u001b[38;5;28mlen\u001b[39m(hslb_f)):\n\u001b[0;32m----> 2\u001b[0m     \u001b[38;5;28mprint\u001b[39m(\u001b[38;5;124m\"\u001b[39m\u001b[38;5;124mhslb\u001b[39m\u001b[38;5;124m\"\u001b[39m, \u001b[43mdescription\u001b[49m\u001b[43m[\u001b[49m\u001b[43mhslb_f\u001b[49m\u001b[43m[\u001b[49m\u001b[43mi\u001b[49m\u001b[43m]\u001b[49m\u001b[43m]\u001b[49m)\n",
      "\u001b[0;31mTypeError\u001b[0m: list indices must be integers or slices, not str"
     ]
    }
   ],
   "source": [
    "for i in range(len(hslb_f)):\n",
    "    print(\"hslb\", description[hslb_f[i]])"
   ]
  },
  {
   "cell_type": "code",
   "execution_count": null,
   "id": "91f0ab97-7121-4e16-ae38-ad6da1371d2b",
   "metadata": {},
   "outputs": [],
   "source": [
    "fasta_dna = []\n",
    "fasta_aa = []\n",
    "for i in range(len(hslb_f)):\n",
    "    diff = dif(ref_aa, candidates_aa[i])\n",
    "    description=[]\n",
    "    for x in diff:\n",
    "        des = f\"{ref_aa[x]}{x + 1}{candidates_aa[i][x]}\"\n",
    "        description.append(des)\n",
    "    description = \"|\".join(description)\n",
    "    dna_read = SeqRecord(Seq(candidates_dna[i]), id = \"DmpR_insilico_mutant\", description=description)\n",
    "    fasta_dna.append(dna_read)\n",
    "    aa_read = SeqRecord(Seq(candidates_aa[i]), id = \"DmpR_insilico_mutant\", description=description)\n",
    "    fasta_aa.append(aa_read)\n",
    "Bio.SeqIO.write(fasta_dna, f\"{filename}_dna.fasta\", \"fasta\")\n",
    "Bio.SeqIO.write(fasta_aa, f\"{filename}_aa.fasta\", \"fasta\")\n",
    "    "
   ]
  },
  {
   "cell_type": "code",
   "execution_count": 24,
   "id": "1335258f-2d32-4920-a0be-e1c21489f157",
   "metadata": {},
   "outputs": [
    {
     "name": "stdout",
     "output_type": "stream",
     "text": [
      "hshb DmpR_insilico_mutant DmpR_Predicted_residue_combination ('R246S', 'E8G', 'V134E', 'E135K')\n",
      "hshb DmpR_insilico_mutant DmpR_Predicted_residue_combination ('R246S', 'E8A', 'V134E', 'E135K')\n",
      "hshb DmpR_insilico_mutant DmpR_Predicted_residue_combination ('R246S', 'E8K', 'V134E', 'E135K')\n",
      "hshb DmpR_insilico_mutant DmpR_Predicted_residue_combination ('R246S', 'E133V', 'E8K', 'E135K')\n",
      "hshb DmpR_insilico_mutant DmpR_Predicted_residue_combination ('R246S', 'E133G', 'E8K', 'E135K')\n"
     ]
    }
   ],
   "source": [
    "for i in range(5):\n",
    "    #print(\"hslb\", description[hslb[i]])\n",
    "    print(\"hshb\", description[hshb[i]])\n",
    "    #print(\"lshb\", description[lshb[i]])\n",
    "    #print(\"lslb\", description[lslb[i]])"
   ]
  },
  {
   "cell_type": "code",
   "execution_count": 27,
   "id": "38a16f53-66b9-455b-867f-64fff68545ef",
   "metadata": {},
   "outputs": [
    {
     "name": "stdout",
     "output_type": "stream",
     "text": [
      "lshb DmpR_insilico_mutant DmpR_Predicted_residue_combination ('T224K', 'Q238H', 'E8G', 'E133V')\n",
      "lshb DmpR_insilico_mutant DmpR_Predicted_residue_combination ('T224K', 'Q238H', 'E8G', 'E133G')\n",
      "lshb DmpR_insilico_mutant DmpR_Predicted_residue_combination ('T224K', 'Q238H', 'E8G', 'V134E')\n",
      "lshb DmpR_insilico_mutant DmpR_Predicted_residue_combination ('T224K', 'Q238H', 'E8A', 'E133V')\n",
      "lshb DmpR_insilico_mutant DmpR_Predicted_residue_combination ('T224K', 'Q238H', 'E8A', 'E133G')\n"
     ]
    }
   ],
   "source": [
    "for i in range(5):\n",
    "    print(\"lshb\", description[lshb[i]])"
   ]
  },
  {
   "cell_type": "code",
   "execution_count": 28,
   "id": "b13d79be-c764-458c-9797-01dbb2c94c0a",
   "metadata": {},
   "outputs": [
    {
     "name": "stdout",
     "output_type": "stream",
     "text": [
      "lslb DmpR_insilico_mutant DmpR_Predicted_residue_combination ('F14S', 'T224K', 'Q238H', 'E8G')\n",
      "lslb DmpR_insilico_mutant DmpR_Predicted_residue_combination ('F14S', 'T224K', 'Q238H', 'E8A')\n",
      "lslb DmpR_insilico_mutant DmpR_Predicted_residue_combination ('F14S', 'Q238H', 'E8G', 'E133V')\n",
      "lslb DmpR_insilico_mutant DmpR_Predicted_residue_combination ('F14S', 'Q238H', 'E8G', 'E133G')\n",
      "lslb DmpR_insilico_mutant DmpR_Predicted_residue_combination ('F14S', 'E89V', 'Q238H', 'E8G')\n"
     ]
    }
   ],
   "source": [
    "for i in range(5):\n",
    "    print(\"lslb\", description[lslb[i]])"
   ]
  },
  {
   "cell_type": "code",
   "execution_count": 477,
   "id": "271c7d99-4bfb-4c22-a1a6-ce2361b793dc",
   "metadata": {},
   "outputs": [
    {
     "name": "stdout",
     "output_type": "stream",
     "text": [
      "65536\n"
     ]
    }
   ],
   "source": [
    "import itertools\n",
    "\n",
    "letters = ['A', 'G', 'T', 'C']\n",
    "\n",
    "# Use itertools.product to generate combinations\n",
    "combinations = [''.join(combination) for combination in itertools.product(letters, repeat=8)]\n",
    "\n",
    "# Print the combinations\n",
    "#for combination in combinations:\n",
    "print(len(combinations))"
   ]
  }
 ],
 "metadata": {
  "kernelspec": {
   "display_name": "Python 3 (ipykernel)",
   "language": "python",
   "name": "python3"
  },
  "language_info": {
   "codemirror_mode": {
    "name": "ipython",
    "version": 3
   },
   "file_extension": ".py",
   "mimetype": "text/x-python",
   "name": "python",
   "nbconvert_exporter": "python",
   "pygments_lexer": "ipython3",
   "version": "3.10.8"
  }
 },
 "nbformat": 4,
 "nbformat_minor": 5
}
