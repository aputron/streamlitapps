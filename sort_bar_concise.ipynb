{
 "cells": [
  {
   "cell_type": "code",
   "execution_count": 5,
   "id": "23e87de3-41fd-4742-aaa4-be515ffdc798",
   "metadata": {},
   "outputs": [],
   "source": [
    "import os\n",
    "import pysam\n",
    "import numpy as np\n",
    "import pandas as pd\n",
    "from Bio import SeqIO\n",
    "from Bio import Align\n",
    "from Bio.Seq import Seq\n",
    "from Bio.SeqRecord import SeqRecord"
   ]
  },
  {
   "cell_type": "code",
   "execution_count": 6,
   "id": "5ed96468-ba27-46ec-902a-c0b5719f6aaa",
   "metadata": {},
   "outputs": [],
   "source": [
    "def read_list(filename):\n",
    "    reads=[]\n",
    "    des = []\n",
    "    bamfile = pysam.AlignmentFile(filename, \"rb\")\n",
    "    for b_read in bamfile:\n",
    "        reads.append(b_read.query_sequence)\n",
    "        des.append(b_read.query_name)\n",
    "    return reads, des"
   ]
  },
  {
   "cell_type": "code",
   "execution_count": 3,
   "id": "63459962-3d9d-43c3-8896-fbe997bb283f",
   "metadata": {},
   "outputs": [],
   "source": [
    "def sort_reads(bamfile, folder_name):\n",
    "    barcodes_R=[\"CCCTATGACA\", \"TAATGGCAAG\", \"AACAAGGCGT\", \"GTATGTAGAA\", \"TTCTATGGGG\", \"CCTCGCAACC\", \"TGGATGCTTA\", \"AGAGTGCGGC\"]\n",
    "    barcodes_F=[\"aatcccactac\", \"tgaactgagcg\", \"TATCTGACCTT\", \"ATATGAGACG\", \"CGCTCATTAG\", \"TAATCTCGTC\", \"GCGCGATTTT\", \"AGAGCACTAG\", \"TGCCTTGATC\", \"CTACTCAGTC\", \"TCGTCTGACT\", \"GAACATACGG\"]\n",
    "    a, a_des = read_list(f'{folder_name}/{bamfile}')\n",
    "    \n",
    "    index = []\n",
    "    act_barcode=[]\n",
    "    for i in range(len(a)):\n",
    "        barcodes = []\n",
    "        bar = []\n",
    "        for barcode in barcodes_R:\n",
    "            rev = Seq(barcode).reverse_complement()\n",
    "            if barcode.upper() in a[i] or str(rev) in a[i]:\n",
    "                barcodes.append(barcodes_R.index(barcode) + 1)\n",
    "                bar.append(\"R\")\n",
    "        for barcode in barcodes_F:\n",
    "            rev = Seq(barcode).reverse_complement()\n",
    "            if barcode.upper() in a[i] or str(rev).upper() in a[i]:   \n",
    "                barcodes.append(barcodes_F.index(barcode) + 1)\n",
    "                bar.append(\"F\")\n",
    "        bar = \"_\".join(bar)\n",
    "        if bar == \"R_F\" and len(barcodes) == 2:\n",
    "            act_bar = f'{barcodes[0]}_{barcodes[1]}'               \n",
    "            with open(f'{folder_name}/{act_bar}.fasta', 'a') as f:\n",
    "                f.write(f\">{bar}\\n\")\n",
    "                f.write(f'{a[i]}\\n')"
   ]
  },
  {
   "cell_type": "code",
   "execution_count": 7,
   "id": "46fb6b28-fa25-4f76-82d9-8edd2a34800c",
   "metadata": {},
   "outputs": [
    {
     "name": "stderr",
     "output_type": "stream",
     "text": [
      "[W::hts_idx_load3] The index file is older than the data file: Georgii/georgii_231018_1//barcode22-extracted-sorted.bam.bai\n"
     ]
    }
   ],
   "source": [
    "sort_reads(\"barcode22-extracted-sorted.bam\", \"Georgii/georgii_231018_1/\")"
   ]
  },
  {
   "cell_type": "code",
   "execution_count": 25,
   "id": "3fe89891-955c-4de0-b7e4-072737fd23b4",
   "metadata": {},
   "outputs": [
    {
     "data": {
      "text/plain": [
       "96"
      ]
     },
     "execution_count": 25,
     "metadata": {},
     "output_type": "execute_result"
    }
   ],
   "source": [
    "seqs = [] \n",
    "folder = \"Georgii/georgii_231018_2\"\n",
    "subfolder = folder.split(\"/\")[-1]\n",
    "for file in os.listdir(f'{folder}/consensus'):\n",
    "    if file.endswith(\"fasta\"):\n",
    "        filename=file.split(\".\")[0]\n",
    "        for i in SeqIO.parse(f'{folder}/consensus/{file}', 'fasta'):\n",
    "             dna_read = SeqRecord(i.seq, id=f'{filename}')\n",
    "    seqs.append(dna_read)\n",
    "SeqIO.write(seqs, f\"{folder}/final/{subfolder}_consensus_96_seqs_dna.fasta\", \"fasta\")"
   ]
  }
 ],
 "metadata": {
  "kernelspec": {
   "display_name": "Python 3 (ipykernel)",
   "language": "python",
   "name": "python3"
  },
  "language_info": {
   "codemirror_mode": {
    "name": "ipython",
    "version": 3
   },
   "file_extension": ".py",
   "mimetype": "text/x-python",
   "name": "python",
   "nbconvert_exporter": "python",
   "pygments_lexer": "ipython3",
   "version": "3.10.8"
  }
 },
 "nbformat": 4,
 "nbformat_minor": 5
}
